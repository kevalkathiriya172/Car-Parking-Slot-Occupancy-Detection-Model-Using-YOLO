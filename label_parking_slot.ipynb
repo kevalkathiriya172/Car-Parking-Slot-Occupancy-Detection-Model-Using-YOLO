{
 "cells": [
  {
   "cell_type": "code",
   "execution_count": 1,
   "metadata": {},
   "outputs": [],
   "source": [
    "import cv2\n",
    "import numpy as np"
   ]
  },
  {
   "cell_type": "code",
   "execution_count": 2,
   "metadata": {},
   "outputs": [
    {
     "name": "stdout",
     "output_type": "stream",
     "text": [
      "[INFO] Loading parking lots ...\n",
      "[INFO] Parking lots loaded successfully!\n"
     ]
    }
   ],
   "source": [
    "print(\"[INFO] Loading parking lots ...\")\n",
    "\n",
    "img = cv2.imread(\"parking_lot.png\")\n",
    "\n",
    "print(\"[INFO] Parking lots loaded successfully!\")\n"
   ]
  },
  {
   "cell_type": "code",
   "execution_count": 3,
   "metadata": {},
   "outputs": [
    {
     "name": "stdout",
     "output_type": "stream",
     "text": [
      "[NOTE] Please enter the parking lot lable as shown on the screen (yellow area)\n"
     ]
    }
   ],
   "source": [
    "print(\"[NOTE] Please enter the parking lot lable as shown on the screen (yellow area)\")\n",
    "\n",
    "file = open(\"parking_labels.txt\",\"r+\")\n",
    "\n",
    "file.truncate(0)\n",
    "\n",
    "file.close()\n"
   ]
  },
  {
   "cell_type": "code",
   "execution_count": 3,
   "metadata": {},
   "outputs": [
    {
     "name": "stdout",
     "output_type": "stream",
     "text": [
      "[INFO] Loading parking coordinates ...\n",
      "[array([[ 53, 438],\n",
      "       [133, 441],\n",
      "       [105, 571],\n",
      "       [ 23, 568]]), array([[109, 443],\n",
      "       [205, 436],\n",
      "       [187, 570],\n",
      "       [ 89, 567]]), array([[181, 429],\n",
      "       [287, 428],\n",
      "       [277, 561],\n",
      "       [167, 569]]), array([[246, 436],\n",
      "       [350, 426],\n",
      "       [365, 557],\n",
      "       [259, 560]]), array([[331, 424],\n",
      "       [424, 419],\n",
      "       [455, 550],\n",
      "       [356, 564]]), array([[406, 420],\n",
      "       [497, 410],\n",
      "       [545, 534],\n",
      "       [446, 548]]), array([[475, 418],\n",
      "       [579, 408],\n",
      "       [640, 524],\n",
      "       [530, 545]]), array([[540, 405],\n",
      "       [646, 395],\n",
      "       [723, 518],\n",
      "       [612, 533]]), array([[605, 394],\n",
      "       [715, 388],\n",
      "       [801, 502],\n",
      "       [691, 522]]), array([[674, 398],\n",
      "       [776, 388],\n",
      "       [877, 487],\n",
      "       [767, 511]]), array([[737, 385],\n",
      "       [831, 374],\n",
      "       [931, 492],\n",
      "       [859, 507]]), array([[ 807,  388],\n",
      "       [ 895,  372],\n",
      "       [1011,  466],\n",
      "       [ 921,  488]])]\n"
     ]
    }
   ],
   "source": [
    "file = open(\"slot_coordinates.txt\")\n",
    "\n",
    "print(\"[INFO] Loading parking coordinates ...\")\n",
    "\n",
    "lines = file.readlines()\n",
    "\n",
    "lines = [line.strip() for line in lines]\n",
    "\n",
    "total_parking_lots = len(lines)\n",
    "\n",
    "parking_lot_coords = list()\n",
    "\n",
    "for i in range(len(lines)):\n",
    "    \n",
    "    coords = lines[i].split()\n",
    "    top_left = (int(coords[0]), int(coords[1]))\n",
    "    top_right = (int(coords[2]), int(coords[3]))\n",
    "    bottom_right = (int(coords[4]), int(coords[5]))\n",
    "    bottom_left = (int(coords[6]), int(coords[7]))\n",
    "    coord = np.array([top_left,top_right, bottom_right,bottom_left])\n",
    "    parking_lot_coords.append(coord)\n",
    "print(parking_lot_coords)"
   ]
  },
  {
   "cell_type": "code",
   "execution_count": 5,
   "metadata": {},
   "outputs": [
    {
     "name": "stdout",
     "output_type": "stream",
     "text": [
      "[INFO] Parking 1 is saved!\n",
      "[INFO] Parking 2 is saved!\n",
      "[INFO] Parking 3 is saved!\n",
      "[INFO] Parking 4 is saved!\n",
      "[INFO] Parking 5 is saved!\n",
      "[INFO] Parking 6 is saved!\n",
      "[INFO] Parking 7 is saved!\n",
      "[INFO] Parking 8 is saved!\n",
      "[INFO] Parking 9 is saved!\n",
      "[INFO] Parking 10 is saved!\n",
      "[INFO] Parking 11 is saved!\n",
      "[INFO] Parking 12 is saved!\n"
     ]
    }
   ],
   "source": [
    "for i in range(len(parking_lot_coords)):\n",
    "    \n",
    "    if i > 0:\n",
    "\n",
    "        # cv2.rectangle(img=img,\n",
    "        # pt1=(parking_lot_coords[i][0], parking_lot_coords[i][1]),\n",
    "        # pt2=(parking_lot_coords[i][2], parking_lot_coords[i][-1]),\n",
    "        # color=(0,255,255),\n",
    "        # thickness=2)\n",
    "        cv2.polylines(img,[np.array(parking_lot_coords[i],np.int32)],True,(0,255,255),2)\n",
    "\n",
    "        # cv2.rectangle(img=img,\n",
    "        # pt1=(parking_lot_coords[i-1][0], parking_lot_coords[i-1][1]),\n",
    "        # pt2=(parking_lot_coords[i-1][2], parking_lot_coords[i-1][-1]),\n",
    "        # color=(0,255,0),\n",
    "        # thickness=2)\n",
    "        cv2.polylines(img,[np.array(parking_lot_coords[i],np.int32)],True,(0,255,0),2)\n",
    "        \n",
    "\n",
    "    if i == 0:\n",
    "\n",
    "        # cv2.rectangle(img=img,\n",
    "        #     pt1=(parking_lot_coords[i][0], parking_lot_coords[i][1]),\n",
    "        #     pt2=(parking_lot_coords[i][2], parking_lot_coords[i][-1]),\n",
    "        #     color=(0,255,255),\n",
    "        #     thickness=2)\n",
    "            cv2.polylines(img,[np.array(parking_lot_coords[i],np.int32)],True,(0,255,255),2)\n",
    "        \n",
    "\n",
    "    cv2.imshow(\"Parking lot\", img)\n",
    "\n",
    "    cv2.waitKey(10)\n",
    "\n",
    "    parking_label = input(\"Enter this parking label: \")\n",
    "\n",
    "    with open('parking_labels.txt', 'a') as file:\n",
    "\n",
    "        file.write(\"{}\\n\".format(parking_label))\n",
    "\n",
    "        print(\"[INFO] Parking {} is saved!\".format(parking_label))\n",
    "\n",
    "        continue\n",
    "\n",
    "cv2.destroyAllWindows()"
   ]
  },
  {
   "cell_type": "code",
   "execution_count": null,
   "metadata": {},
   "outputs": [],
   "source": []
  }
 ],
 "metadata": {
  "kernelspec": {
   "display_name": "Python 3",
   "language": "python",
   "name": "python3"
  },
  "language_info": {
   "codemirror_mode": {
    "name": "ipython",
    "version": 3
   },
   "file_extension": ".py",
   "mimetype": "text/x-python",
   "name": "python",
   "nbconvert_exporter": "python",
   "pygments_lexer": "ipython3",
   "version": "3.11.4"
  },
  "orig_nbformat": 4
 },
 "nbformat": 4,
 "nbformat_minor": 2
}
